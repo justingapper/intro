{
 "cells": [
  {
   "cell_type": "markdown",
   "metadata": {
    "collapsed": false
   },
   "source": [
    "# Learn Julia\n",
    "## Justin Gapper"
   ]
  },
  {
   "cell_type": "markdown",
   "metadata": {},
   "source": [
    "# comments\n",
    "The '#' sign is used for comments in Julia\n",
    "Using #= and =# will allow you to enter Multiline comments"
   ]
  },
  {
   "cell_type": "code",
   "execution_count": 4,
   "metadata": {
    "collapsed": true
   },
   "outputs": [],
   "source": [
    "#this is a comment in Julia"
   ]
  },
  {
   "cell_type": "markdown",
   "metadata": {},
   "source": [
    "# variable declarations\n",
    "Assign a value to a variable"
   ]
  },
  {
   "cell_type": "code",
   "execution_count": 6,
   "metadata": {
    "collapsed": false
   },
   "outputs": [
    {
     "data": {
      "text/plain": [
       "200"
      ]
     },
     "execution_count": 6,
     "metadata": {},
     "output_type": "execute_result"
    }
   ],
   "source": [
    "x = 123\n",
    "y = 100*2"
   ]
  },
  {
   "cell_type": "code",
   "execution_count": 8,
   "metadata": {
    "collapsed": false
   },
   "outputs": [
    {
     "data": {
      "text/plain": [
       "(123,200)"
      ]
     },
     "execution_count": 8,
     "metadata": {},
     "output_type": "execute_result"
    }
   ],
   "source": [
    "x, y"
   ]
  },
  {
   "cell_type": "code",
   "execution_count": 9,
   "metadata": {
    "collapsed": false
   },
   "outputs": [
    {
     "data": {
      "text/plain": [
       "\"Julia is great\""
      ]
     },
     "execution_count": 9,
     "metadata": {},
     "output_type": "execute_result"
    }
   ],
   "source": [
    "z = \"Julia is great\"\n",
    "z"
   ]
  },
  {
   "cell_type": "markdown",
   "metadata": {},
   "source": [
    "# printing output\n",
    "Use print to print output"
   ]
  },
  {
   "cell_type": "code",
   "execution_count": 20,
   "metadata": {
    "collapsed": false
   },
   "outputs": [
    {
     "name": "stdout",
     "output_type": "stream",
     "text": [
      "Julia is great"
     ]
    }
   ],
   "source": [
    "print(z)"
   ]
  },
  {
   "cell_type": "markdown",
   "metadata": {},
   "source": [
    "# datatypes"
   ]
  },
  {
   "cell_type": "code",
   "execution_count": 70,
   "metadata": {
    "collapsed": true
   },
   "outputs": [],
   "source": [
    "#Integers - Integers are helpful in performing calculations.  They are defined using an '='\n",
    "#Float - Float is helpful in floating point calculations.  They are also defined using an '='"
   ]
  },
  {
   "cell_type": "code",
   "execution_count": 75,
   "metadata": {
    "collapsed": false
   },
   "outputs": [
    {
     "data": {
      "text/plain": [
       "150"
      ]
     },
     "execution_count": 75,
     "metadata": {},
     "output_type": "execute_result"
    }
   ],
   "source": [
    "#Integer\n",
    "a = 10\n",
    "b = 15\n",
    "a*b"
   ]
  },
  {
   "cell_type": "code",
   "execution_count": 76,
   "metadata": {
    "collapsed": false
   },
   "outputs": [
    {
     "data": {
      "text/plain": [
       "27.060816"
      ]
     },
     "execution_count": 76,
     "metadata": {},
     "output_type": "execute_result"
    }
   ],
   "source": [
    "#float\n",
    "a = 5.666\n",
    "b = 4.776\n",
    "a*b"
   ]
  },
  {
   "cell_type": "code",
   "execution_count": 77,
   "metadata": {
    "collapsed": false
   },
   "outputs": [],
   "source": [
    "#= String - this is a series of characters.  They are helpful in writing code\n",
    "that includes a statement in the output\n",
    "There is ASCII and UTF8 =#"
   ]
  },
  {
   "cell_type": "code",
   "execution_count": 78,
   "metadata": {
    "collapsed": false
   },
   "outputs": [
    {
     "data": {
      "text/plain": [
       "\"My first string\""
      ]
     },
     "execution_count": 78,
     "metadata": {},
     "output_type": "execute_result"
    }
   ],
   "source": [
    "\"My first string\""
   ]
  },
  {
   "cell_type": "code",
   "execution_count": 79,
   "metadata": {
    "collapsed": false
   },
   "outputs": [
    {
     "data": {
      "text/plain": [
       "'f'"
      ]
     },
     "execution_count": 79,
     "metadata": {},
     "output_type": "execute_result"
    }
   ],
   "source": [
    "#character literal\n",
    "'f'"
   ]
  },
  {
   "cell_type": "code",
   "execution_count": 60,
   "metadata": {
    "collapsed": false
   },
   "outputs": [
    {
     "data": {
      "text/plain": [
       "\"10 - 5 = 5\""
      ]
     },
     "execution_count": 60,
     "metadata": {},
     "output_type": "execute_result"
    }
   ],
   "source": [
    "#interpolations\n",
    "\"10 - 5 = $(10 - 5)\""
   ]
  },
  {
   "cell_type": "code",
   "execution_count": 69,
   "metadata": {
    "collapsed": false
   },
   "outputs": [
    {
     "name": "stdout",
     "output_type": "stream",
     "text": [
      "10 is more than 5.400000"
     ]
    }
   ],
   "source": [
    "@printf \"%d is more than %f\" 10 5.4"
   ]
  },
  {
   "cell_type": "code",
   "execution_count": 33,
   "metadata": {
    "collapsed": true
   },
   "outputs": [],
   "source": [
    "#= Boolean - this is binary True/Fales or 1/0.  \n",
    "This is extremely helpful in many situations such as logic evaluations =#"
   ]
  },
  {
   "cell_type": "code",
   "execution_count": 44,
   "metadata": {
    "collapsed": false
   },
   "outputs": [
    {
     "data": {
      "text/plain": [
       "false"
      ]
     },
     "execution_count": 44,
     "metadata": {},
     "output_type": "execute_result"
    }
   ],
   "source": [
    "!true"
   ]
  },
  {
   "cell_type": "code",
   "execution_count": 45,
   "metadata": {
    "collapsed": false
   },
   "outputs": [
    {
     "data": {
      "text/plain": [
       "true"
      ]
     },
     "execution_count": 45,
     "metadata": {},
     "output_type": "execute_result"
    }
   ],
   "source": [
    "true"
   ]
  },
  {
   "cell_type": "code",
   "execution_count": 46,
   "metadata": {
    "collapsed": false
   },
   "outputs": [
    {
     "data": {
      "text/plain": [
       "true"
      ]
     },
     "execution_count": 46,
     "metadata": {},
     "output_type": "execute_result"
    }
   ],
   "source": [
    "1 <10 < 80"
   ]
  },
  {
   "cell_type": "code",
   "execution_count": 48,
   "metadata": {
    "collapsed": false
   },
   "outputs": [
    {
     "data": {
      "text/plain": [
       "false"
      ]
     },
     "execution_count": 48,
     "metadata": {},
     "output_type": "execute_result"
    }
   ],
   "source": [
    "90 < 80"
   ]
  },
  {
   "cell_type": "code",
   "execution_count": 28,
   "metadata": {
    "collapsed": false
   },
   "outputs": [
    {
     "data": {
      "text/plain": [
       "5-element Array{Int64,1}:\n",
       "  4\n",
       "  6\n",
       " 10\n",
       " 30\n",
       " 80"
      ]
     },
     "execution_count": 28,
     "metadata": {},
     "output_type": "execute_result"
    }
   ],
   "source": [
    "#Array - stores a sequance of values using an index (1 through n)\n",
    "x = [4, 6, 10, 30, 80]\n",
    "x"
   ]
  },
  {
   "cell_type": "code",
   "execution_count": 27,
   "metadata": {
    "collapsed": false
   },
   "outputs": [
    {
     "data": {
      "text/plain": [
       "(4,80)"
      ]
     },
     "execution_count": 27,
     "metadata": {},
     "output_type": "execute_result"
    }
   ],
   "source": [
    "#Julia automatically assigns indexing\n",
    "x[1],x[end]"
   ]
  },
  {
   "cell_type": "markdown",
   "metadata": {},
   "source": [
    "# control structures\n",
    "#Control structures outline a logic progression using:\n",
    "#if\n",
    "#for\n",
    "#while"
   ]
  },
  {
   "cell_type": "code",
   "execution_count": 80,
   "metadata": {
    "collapsed": false
   },
   "outputs": [
    {
     "name": "stdout",
     "output_type": "stream",
     "text": [
      "x is larger than 10\n"
     ]
    }
   ],
   "source": [
    "x = 15\n",
    "if x >10\n",
    "    println(\"x is larger than 10\")\n",
    "elseif x <10\n",
    "    println(\"x is smaller than 10\")\n",
    "else\n",
    "    println(\"x is 10\")\n",
    "end"
   ]
  },
  {
   "cell_type": "code",
   "execution_count": 82,
   "metadata": {
    "collapsed": false
   },
   "outputs": [
    {
     "name": "stdout",
     "output_type": "stream",
     "text": [
      "Jim is actually happy\n",
      "Jeff is actually happy\n",
      "Jenn is actually happy\n",
      "Jess is actually happy\n"
     ]
    }
   ],
   "source": [
    "for happy in [\"Jim\", \"Jeff\", \"Jenn\", \"Jess\"]\n",
    "    println(\"$happy is actually happy\")\n",
    "end"
   ]
  },
  {
   "cell_type": "code",
   "execution_count": 86,
   "metadata": {
    "collapsed": false
   },
   "outputs": [
    {
     "name": "stderr",
     "output_type": "stream",
     "text": [
      "\n",
      "WARNING: deprecated syntax \"[a=>b, ...]\" at In[86]:1.\n",
      "Use \"Dict(a=>b, ...)\" instead.\n"
     ]
    },
    {
     "name": "stdout",
     "output_type": "stream",
     "text": [
      "wife is followed by baby\n",
      "1 is followed by 2\n",
      "2 is followed by 3\n"
     ]
    }
   ],
   "source": [
    "for (k,v) in [\"wife\"=>\"baby\",\"1\"=>\"2\", \"2\"=>\"3\"]\n",
    "    println(\"$k is followed by $v\")\n",
    "end"
   ]
  },
  {
   "cell_type": "markdown",
   "metadata": {},
   "source": [
    "#different from python"
   ]
  },
  {
   "cell_type": "code",
   "execution_count": 87,
   "metadata": {
    "collapsed": false
   },
   "outputs": [
    {
     "name": "stdout",
     "output_type": "stream",
     "text": [
      "10\n",
      "11\n",
      "12\n",
      "13\n",
      "14\n"
     ]
    }
   ],
   "source": [
    "x = 10\n",
    "while x<15\n",
    "    println(x)\n",
    "    x += 1\n",
    "end"
   ]
  },
  {
   "cell_type": "code",
   "execution_count": 88,
   "metadata": {
    "collapsed": false
   },
   "outputs": [
    {
     "name": "stdout",
     "output_type": "stream",
     "text": [
      "I told you, ErrorException(\"you did something wrong\")\n"
     ]
    }
   ],
   "source": [
    "try\n",
    "    error(\"you did something wrong\")\n",
    "catch f\n",
    "    println(\"I told you, $f\")\n",
    "end"
   ]
  },
  {
   "cell_type": "markdown",
   "metadata": {},
   "source": [
    "## Differences and Similarities between Python and Julia"
   ]
  },
  {
   "cell_type": "code",
   "execution_count": 90,
   "metadata": {
    "collapsed": true
   },
   "outputs": [],
   "source": [
    "#Julia is a functional language and is not object oriented.\n",
    "#Julia is immutable\n",
    "#In python, functions belong to classes\n",
    "#Both Julia and python have low overhead.  For example, data type inferencing.\n",
    "#Python makes heavy use of indentation to denote hierarchy\n",
    "#Julia arrays are 1-based indexing \n",
    "#There are some small differences in the syntax such as how to "
   ]
  },
  {
   "cell_type": "code",
   "execution_count": 133,
   "metadata": {
    "collapsed": false
   },
   "outputs": [
    {
     "data": {
      "text/plain": [
       "100-element Array{Int128,1}:\n",
       "                     1\n",
       "                     1\n",
       "                     2\n",
       "                     3\n",
       "                     5\n",
       "                     8\n",
       "                    13\n",
       "                    21\n",
       "                    34\n",
       "                    55\n",
       "                    89\n",
       "                   144\n",
       "                   233\n",
       "                     ⋮\n",
       "   1779979416004714189\n",
       "   2880067194370816120\n",
       "   4660046610375530309\n",
       "   7540113804746346429\n",
       "  12200160415121876738\n",
       "  19740274219868223167\n",
       "  31940434634990099905\n",
       "  51680708854858323072\n",
       "  83621143489848422977\n",
       " 135301852344706746049\n",
       " 218922995834555169026\n",
       " 354224848179261915075"
      ]
     },
     "execution_count": 133,
     "metadata": {},
     "output_type": "execute_result"
    }
   ],
   "source": [
    "function fib(n :: Int64)\n",
    "    a = zeros(Int128,n)\n",
    "    a[1] = 1\n",
    "    a[2] = 1\n",
    "    for i in 3:n\n",
    "        a[i] = a[i-1] + a[i-2]\n",
    "    end\n",
    "    return(a)\n",
    "end\n",
    "fib(100)"
   ]
  }
 ],
 "metadata": {
  "kernelspec": {
   "display_name": "Julia",
   "language": "julia",
   "name": "julia-0.4"
  },
  "language_info": {
   "file_extension": ".jl",
   "mimetype": "application/julia",
   "name": "julia",
   "version": "0.4.0"
  },
  "name": "learnjulia.ipynb"
 },
 "nbformat": 4,
 "nbformat_minor": 0
}
