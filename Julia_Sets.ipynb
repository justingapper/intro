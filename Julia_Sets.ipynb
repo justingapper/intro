{
 "cells": [
  {
   "cell_type": "code",
   "execution_count": 65,
   "metadata": {
    "collapsed": false
   },
   "outputs": [],
   "source": [
    "#Julia Sets\n",
    "#Justin Gapper"
   ]
  },
  {
   "cell_type": "code",
   "execution_count": 199,
   "metadata": {
    "collapsed": false
   },
   "outputs": [],
   "source": [
    "version = 2.0\n",
    "\n",
    "class julia():\n",
    "    def __init__(self, c, n):\n",
    "        self.c = c\n",
    "        self.n = n\n",
    "        self._d = 0.001\n",
    "    \n",
    "    def juliamap(self, z):\n",
    "        return z**2 + c\n",
    "    \n",
    "    def iterate(self, z):\n",
    "        m = 0\n",
    "        while True:\n",
    "            juliamap(z)\n",
    "            m +=1\n",
    "            if abs(z.real)>2:\n",
    "                return m\n",
    "            if m>=n:\n",
    "                return 0\n",
    "                       \n",
    "        self._complexplane = []\n",
    "        self._set = []\n",
    "        for x in range(-2, 2, 0.001):\n",
    "            for y in range(-2, 2, 0.001):\n",
    "                self._complexplane.append(complex(x,y))\n",
    "\n",
    "    def set_spacing(self, d):\n",
    "        self._d = d\n",
    "        \n",
    "    def generate(self):\n",
    "        self._set = [iterate(z) for z in self._complexplane]\n",
    "        return self._set"
   ]
  },
  {
   "cell_type": "code",
   "execution_count": 200,
   "metadata": {
    "collapsed": false,
    "scrolled": true
   },
   "outputs": [],
   "source": [
    "js = julia(complex(1,0),100)"
   ]
  },
  {
   "cell_type": "code",
   "execution_count": 201,
   "metadata": {
    "collapsed": false,
    "scrolled": true
   },
   "outputs": [
    {
     "data": {
      "text/plain": [
       "(1+0j)"
      ]
     },
     "execution_count": 201,
     "metadata": {},
     "output_type": "execute_result"
    }
   ],
   "source": [
    "js.c"
   ]
  },
  {
   "cell_type": "code",
   "execution_count": null,
   "metadata": {
    "collapsed": true
   },
   "outputs": [],
   "source": []
  }
 ],
 "metadata": {
  "kernelspec": {
   "display_name": "Python 2",
   "language": "python",
   "name": "python2"
  },
  "language_info": {
   "codemirror_mode": {
    "name": "ipython",
    "version": 2
   },
   "file_extension": ".py",
   "mimetype": "text/x-python",
   "name": "python",
   "nbconvert_exporter": "python",
   "pygments_lexer": "ipython2",
   "version": "2.7.8"
  },
  "name": "Julia_Sets.ipynb"
 },
 "nbformat": 4,
 "nbformat_minor": 0
}
