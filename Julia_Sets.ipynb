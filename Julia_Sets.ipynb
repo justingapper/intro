{
 "cells": [
  {
   "cell_type": "code",
   "execution_count": 65,
   "metadata": {
    "collapsed": false
   },
   "outputs": [],
   "source": [
    "#Julia Sets\n",
    "#Justin Gapper"
   ]
  },
  {
   "cell_type": "code",
   "execution_count": 206,
   "metadata": {
    "collapsed": false
   },
   "outputs": [],
   "source": [
    "version = 2.0\n",
    "\n",
    "class julia():\n",
    "    def __init__(self, c, n):\n",
    "        self.c = c\n",
    "        self.n = n\n",
    "        self._d = 0.001\n",
    "    \n",
    "    def juliamap(self, z):\n",
    "        return z**2 + c\n",
    "    \n",
    "    def iterate(self, z):\n",
    "        m = 0\n",
    "        while True:\n",
    "            juliamap(z)\n",
    "            m +=1\n",
    "            if abs(z.real)>2:\n",
    "                return m\n",
    "            if m>=n:\n",
    "                return 0\n",
    "                       \n",
    "        self._complexplane = []\n",
    "        self._set = []\n",
    "        for x in range(-2, 2, 0.001):\n",
    "            for y in range(-2, 2, 0.001):\n",
    "                self._complexplane.append(complex(x,y))\n",
    "\n",
    "    def set_spacing(self, d):\n",
    "        self._d = d\n",
    "        \n",
    "    def generate(self):\n",
    "        self._set = [iterate(z) for z in self._complexplane]\n",
    "        return self._set"
   ]
  },
  {
   "cell_type": "code",
   "execution_count": 209,
   "metadata": {
    "collapsed": false,
    "scrolled": true
   },
   "outputs": [],
   "source": [
    "js = julia(complex(0,0),100)"
   ]
  },
  {
   "cell_type": "code",
   "execution_count": 211,
   "metadata": {
    "collapsed": false,
    "scrolled": true
   },
   "outputs": [
    {
     "ename": "SyntaxError",
     "evalue": "'return' outside function (<ipython-input-211-c25ccd9a550e>, line 1)",
     "output_type": "error",
     "traceback": [
      "\u001b[1;36m  File \u001b[1;32m\"<ipython-input-211-c25ccd9a550e>\"\u001b[1;36m, line \u001b[1;32m1\u001b[0m\n\u001b[1;33m    return self._set\u001b[0m\n\u001b[1;31mSyntaxError\u001b[0m\u001b[1;31m:\u001b[0m 'return' outside function\n"
     ]
    }
   ],
   "source": [
    "return self._set"
   ]
  },
  {
   "cell_type": "code",
   "execution_count": 220,
   "metadata": {
    "collapsed": false
   },
   "outputs": [
    {
     "data": {
      "text/plain": [
       "(1+1j)"
      ]
     },
     "execution_count": 220,
     "metadata": {},
     "output_type": "execute_result"
    }
   ],
   "source": [
    "version = 2.1\n",
    "\n",
    "class julia():\n",
    "    def __init__(self, c, n):\n",
    "        self.c = c\n",
    "        self.n = n\n",
    "        self._d = 0.001\n",
    "        self.complexplane = []\n",
    "        self._set = []\n",
    "    \n",
    "    def juliamap(self, z):\n",
    "        return z**2 + self.c\n",
    "    \n",
    "    def iterate(self, z):\n",
    "        m = 0\n",
    "        while True:\n",
    "            z = self.juliamap(z)\n",
    "            m +=1\n",
    "            if abs(z.real)>2:\n",
    "                return (z,m)\n",
    "            if m>=self.n:\n",
    "                return 0\n",
    "            print(m)\n",
    "                    \n",
    "    def genComplexPlane(self):\n",
    "        self._complexplane = []\n",
    "        for x in range(-2, 2, 0.001):\n",
    "            for y in range(-2, 2, 0.001):\n",
    "                self._complexplane.append(complex(x,y))\n",
    "\n",
    "    def set_spacing(self, d):\n",
    "        self._d = d\n",
    "        self.genComplexPlane()\n",
    "        \n",
    "    def generate(self):\n",
    "        self._set = [iterate(z) for z in self._complexplane]\n",
    "        return self._set\n",
    "    \n",
    "js = julia(complex(1,1),10)\n",
    "js.c\n",
    "#js.n\n",
    "#js._d\n",
    "#js.juliamap(complex(3,2))\n",
    "#js.iterate(complex(0,0))\n"
   ]
  },
  {
   "cell_type": "code",
   "execution_count": 203,
   "metadata": {
    "collapsed": false
   },
   "outputs": [
    {
     "ename": "NameError",
     "evalue": "name 'this' is not defined",
     "output_type": "error",
     "traceback": [
      "\u001b[1;31m---------------------------------------------------------------------------\u001b[0m",
      "\u001b[1;31mNameError\u001b[0m                                 Traceback (most recent call last)",
      "\u001b[1;32m<ipython-input-203-c49d87ed2ae9>\u001b[0m in \u001b[0;36m<module>\u001b[1;34m()\u001b[0m\n\u001b[0;32m      1\u001b[0m \u001b[1;31m###\u001b[0m\u001b[1;33m\u001b[0m\u001b[1;33m\u001b[0m\u001b[0m\n\u001b[1;32m----> 2\u001b[1;33m \u001b[1;32mprint\u001b[0m \u001b[0mthis\u001b[0m\u001b[1;33m\u001b[0m\u001b[0m\n\u001b[0m",
      "\u001b[1;31mNameError\u001b[0m: name 'this' is not defined"
     ]
    }
   ],
   "source": [
    "\"\"\"You can check if the code is working by passing various values for C through it.  >>>js=julia(complex(1,0),100) #here c=1+0j# >>>js.c, >>>js=julia(complex(3,5),50) #here c=3+5j# >>>js.c, >>>js=julia(complex(10,0),10) #here c=10+0j# >>>js.c, etc... \n",
    "Simple input parameters are js = julia(complex(1,0),1), js = julia(complex(0,0),10), and js = julia(complex(1,1),10).  The lower\"\"\""
   ]
  },
  {
   "cell_type": "code",
   "execution_count": null,
   "metadata": {
    "collapsed": true
   },
   "outputs": [],
   "source": []
  }
 ],
 "metadata": {
  "kernelspec": {
   "display_name": "Python 2",
   "language": "python",
   "name": "python2"
  },
  "language_info": {
   "codemirror_mode": {
    "name": "ipython",
    "version": 2
   },
   "file_extension": ".py",
   "mimetype": "text/x-python",
   "name": "python",
   "nbconvert_exporter": "python",
   "pygments_lexer": "ipython2",
   "version": "2.7.8"
  },
  "name": "Julia_Sets.ipynb"
 },
 "nbformat": 4,
 "nbformat_minor": 0
}
